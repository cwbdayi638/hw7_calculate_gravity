{
 "cells": [
  {
   "cell_type": "code",
   "execution_count": 1,
   "id": "27286638",
   "metadata": {},
   "outputs": [],
   "source": [
    "import numpy as np"
   ]
  },
  {
   "cell_type": "code",
   "execution_count": 4,
   "id": "cdb096fc",
   "metadata": {},
   "outputs": [],
   "source": [
    "lon = 12.1878;   lat = 48.1195;   ele = 487.9;  Go = 980717.39"
   ]
  },
  {
   "cell_type": "code",
   "execution_count": 16,
   "id": "e9978dd7",
   "metadata": {},
   "outputs": [],
   "source": [
    "Ge = 978031.85"
   ]
  },
  {
   "cell_type": "code",
   "execution_count": 7,
   "id": "1213d12f",
   "metadata": {},
   "outputs": [
    {
     "data": {
      "text/plain": [
       "3.141592653589793"
      ]
     },
     "execution_count": 7,
     "metadata": {},
     "output_type": "execute_result"
    }
   ],
   "source": [
    "np.pi"
   ]
  },
  {
   "cell_type": "code",
   "execution_count": 18,
   "id": "7a38d120",
   "metadata": {},
   "outputs": [],
   "source": [
    "fac =     np.pi /180.0"
   ]
  },
  {
   "cell_type": "code",
   "execution_count": 10,
   "id": "dd8a0b39",
   "metadata": {},
   "outputs": [
    {
     "name": "stdout",
     "output_type": "stream",
     "text": [
      "1.0\n"
     ]
    }
   ],
   "source": [
    "print(np.sin(90*fac))"
   ]
  },
  {
   "cell_type": "code",
   "execution_count": 14,
   "id": "fce49c0d",
   "metadata": {},
   "outputs": [
    {
     "data": {
      "text/plain": [
       "10000"
      ]
     },
     "execution_count": 14,
     "metadata": {},
     "output_type": "execute_result"
    }
   ],
   "source": [
    "10**4"
   ]
  },
  {
   "cell_type": "code",
   "execution_count": 6,
   "id": "3e312d71",
   "metadata": {},
   "outputs": [
    {
     "name": "stdout",
     "output_type": "stream",
     "text": [
      "0.0\n"
     ]
    }
   ],
   "source": [
    "print(np.sin(0))"
   ]
  },
  {
   "cell_type": "code",
   "execution_count": 19,
   "id": "c9990dd0",
   "metadata": {},
   "outputs": [],
   "source": [
    "Gt = Ge * (1 + 0.00578895*np.sin(lat*fac)**2 + 0.000023462*np.sin(lat*fac)**4  )"
   ]
  },
  {
   "cell_type": "code",
   "execution_count": 20,
   "id": "8e35e54d",
   "metadata": {},
   "outputs": [
    {
     "name": "stdout",
     "output_type": "stream",
     "text": [
      "theoretical gravity :  981177.4397522432\n"
     ]
    }
   ],
   "source": [
    "print(f\"theoretical gravity :  {Gt}\")"
   ]
  },
  {
   "cell_type": "code",
   "execution_count": null,
   "id": "e55c5fb8",
   "metadata": {},
   "outputs": [],
   "source": []
  }
 ],
 "metadata": {
  "kernelspec": {
   "display_name": "Python 3",
   "language": "python",
   "name": "python3"
  },
  "language_info": {
   "codemirror_mode": {
    "name": "ipython",
    "version": 3
   },
   "file_extension": ".py",
   "mimetype": "text/x-python",
   "name": "python",
   "nbconvert_exporter": "python",
   "pygments_lexer": "ipython3",
   "version": "3.12.1"
  }
 },
 "nbformat": 4,
 "nbformat_minor": 5
}
